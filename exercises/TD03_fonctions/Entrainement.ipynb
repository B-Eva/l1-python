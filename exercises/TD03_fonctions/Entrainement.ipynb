{
 "metadata": {
  "language_info": {
   "codemirror_mode": {
    "name": "ipython",
    "version": 3
   },
   "file_extension": ".py",
   "mimetype": "text/x-python",
   "name": "python",
   "nbconvert_exporter": "python",
   "pygments_lexer": "ipython3",
   "version": "3.8.3-final"
  },
  "orig_nbformat": 2,
  "kernelspec": {
   "name": "python3",
   "display_name": "Python 3"
  }
 },
 "nbformat": 4,
 "nbformat_minor": 2,
 "cells": [
  {
   "cell_type": "code",
   "execution_count": 1,
   "metadata": {},
   "outputs": [],
   "source": [
    "#Exercice 1\n",
    "\n",
    "liste_1 = []\n",
    "def carre_decroisasnt(n) :\n",
    "    for i in range(n) :\n",
    "        i*n + 1\n",
    "      \n",
    "print(liste_1)"
   ]
  },
  {
   "cell_type": "code",
   "execution_count": null,
   "metadata": {},
   "outputs": [],
   "source": [
    "#Exercice 2\n",
    "\n",
    "liste = [2, 5, 6]\n",
    "add_3 = []\n",
    "def plus_3(liste):\n",
    "    for i in liste :\n",
    "        add_3.append(i + 3)\n",
    "\n",
    "plus_3(add_3)\n",
    "print(add_3)"
   ]
  },
  {
   "cell_type": "code",
   "execution_count": 24,
   "metadata": {},
   "outputs": [
    {
     "output_type": "stream",
     "name": "stdout",
     "text": [
      "[1, 2, 3, 4, 5, 6, 7, 8, 9, 10, 11, 12, 13, 14, 15, 16, 17, 18, 19, 20, 21, 22, 23, 24, 25, 26, 27, 28, 29, 30, 31, 32, 33, 34, 35, 36, 37, 38, 39, 40, 41, 42, 43, 44, 45, 46, 47, 48, 49, 50, 51, 52, 53, 54, 55, 56, 57, 58, 59, 60, 61, 62, 63, 64, 65, 66, 67, 68, 69, 70, 71, 72, 73, 74, 75, 76, 77, 78, 79, 80, 81, 82, 83, 84, 85, 86, 87, 88, 89, 90, 91, 92, 93, 94, 95, 96, 97, 98, 99, 2, 4, 6, 8, 10, 12, 14, 16, 18, 20, 22, 24, 26, 28, 30, 32, 34, 36, 38, 40, 42, 44, 46, 48, 50, 52, 54, 56, 58, 60, 62, 64, 66, 68, 70, 72, 74, 76, 78, 80, 82, 84, 86, 88, 90, 92, 94, 96, 98, 100]\n"
     ]
    }
   ],
   "source": [
    "#Exercice 3\n",
    "\n",
    "liste_10 = []\n",
    "for i in range(1, 100) :\n",
    "    liste_10.append(i)\n",
    "for j in range(2, 101) : \n",
    "    if j % 2 == 0 :\n",
    "        liste_10.append(j)\n",
    "    \n",
    "liste[100 : len(liste_10) -1].reverse()\n",
    "print(liste_10)"
   ]
  },
  {
   "cell_type": "code",
   "execution_count": 28,
   "metadata": {},
   "outputs": [
    {
     "output_type": "stream",
     "name": "stdout",
     "text": [
      "[2, 4, 7]\n"
     ]
    }
   ],
   "source": [
    "#Exercice 4\n",
    "\n",
    "liste1 = [2, 4, 7]\n",
    "liste2 = [3, 5, 7]\n",
    "def max_element(liste1, liste2) :\n",
    "    m1 = max(liste1)\n",
    "    m2 = max(liste2)\n",
    "    if m1 > m2 :\n",
    "        print(liste1)\n",
    "    if m2 > m1 :\n",
    "        print(liste2)\n",
    "    if m1 == m2 :\n",
    "        print(liste1)\n",
    "        \n",
    "max_element(liste1, liste2)"
   ]
  },
  {
   "cell_type": "code",
   "execution_count": null,
   "metadata": {},
   "outputs": [],
   "source": []
  }
 ]
}
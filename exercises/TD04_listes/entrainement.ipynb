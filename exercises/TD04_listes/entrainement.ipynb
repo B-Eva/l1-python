{
 "metadata": {
  "language_info": {
   "codemirror_mode": {
    "name": "ipython",
    "version": 3
   },
   "file_extension": ".py",
   "mimetype": "text/x-python",
   "name": "python",
   "nbconvert_exporter": "python",
   "pygments_lexer": "ipython3",
   "version": "3.8.3-final"
  },
  "orig_nbformat": 2,
  "kernelspec": {
   "name": "python3",
   "display_name": "Python 3"
  }
 },
 "nbformat": 4,
 "nbformat_minor": 2,
 "cells": [
  {
   "cell_type": "code",
   "execution_count": 12,
   "metadata": {},
   "outputs": [
    {
     "output_type": "stream",
     "name": "stdout",
     "text": [
      "[12, 24, 55, 1]\n"
     ]
    }
   ],
   "source": [
    "liste_uti = []\n",
    "liste_uti = input(\"Entrez les valeurs de votre liste, séparés pas des / :\")\n",
    "liste_uti = liste_uti.split(\"/\")\n",
    "\n",
    "for i in range(len(liste_uti)) :\n",
    "    liste_uti[i] = int(liste_uti[i])\n",
    "print(liste_uti)\n"
   ]
  },
  {
   "cell_type": "code",
   "execution_count": 13,
   "metadata": {},
   "outputs": [
    {
     "output_type": "stream",
     "name": "stdout",
     "text": [
      "indice : 0 valeur :  12\nindice : 1 valeur :  24\nindice : 2 valeur :  55\nindice : 3 valeur :  1\n"
     ]
    }
   ],
   "source": [
    "colonne = len(liste_uti)\n",
    "for i in range (colonne) : \n",
    "    print(\"indice :\", i, \"valeur : \", liste_uti[i])"
   ]
  },
  {
   "cell_type": "code",
   "execution_count": 14,
   "metadata": {},
   "outputs": [
    {
     "output_type": "stream",
     "name": "stdout",
     "text": [
      "La somme des éléments de la liste est 92\n"
     ]
    }
   ],
   "source": [
    "print(\"La somme des éléments de la liste est\", sum(liste_uti))"
   ]
  },
  {
   "cell_type": "code",
   "execution_count": 15,
   "metadata": {},
   "outputs": [
    {
     "output_type": "stream",
     "name": "stdout",
     "text": [
      "[36, 72, 165, 3]\n"
     ]
    }
   ],
   "source": [
    "multi_3 = []\n",
    "for i in liste_uti : \n",
    "    multi_3.append(i*3)\n",
    "print(multi_3)"
   ]
  },
  {
   "cell_type": "code",
   "execution_count": 16,
   "metadata": {},
   "outputs": [
    {
     "output_type": "stream",
     "name": "stdout",
     "text": [
      "Le nombre le plus grand de la liste est : 55\n"
     ]
    }
   ],
   "source": [
    "print(\"Le nombre le plus grand de la liste est :\", max(liste_uti))"
   ]
  },
  {
   "cell_type": "code",
   "execution_count": 17,
   "metadata": {},
   "outputs": [
    {
     "output_type": "stream",
     "name": "stdout",
     "text": [
      "Le nombre le plus petit de la liste est :  1\n"
     ]
    }
   ],
   "source": [
    "print(\"Le nombre le plus petit de la liste est : \", min(liste_uti))"
   ]
  },
  {
   "cell_type": "code",
   "execution_count": 25,
   "metadata": {},
   "outputs": [
    {
     "output_type": "stream",
     "name": "stdout",
     "text": [
      "Les nombres pairs de la liste sont [12, 24] , il y en a  2\n"
     ]
    }
   ],
   "source": [
    "pairs = []\n",
    "nbr = 0\n",
    "for i in liste_uti :\n",
    "    if i % 2 == 0 :\n",
    "        pairs.append(i)\n",
    "        \n",
    "for i in range(len(pairs)) :\n",
    "    nbr = i+1 \n",
    "    \n",
    "print(\"Les nombres pairs de la liste sont\", pairs, \", il y en a \", nbr )"
   ]
  },
  {
   "cell_type": "code",
   "execution_count": 30,
   "metadata": {},
   "outputs": [
    {
     "output_type": "stream",
     "name": "stdout",
     "text": [
      "Les nombres impairs de la liste sont : [55, 1] leur somme est égal à : 56\n"
     ]
    }
   ],
   "source": [
    "impairs = []\n",
    "for i in liste_uti :\n",
    "    if i % 2 != 0 :\n",
    "        impairs.append(i)\n",
    "     \n",
    "print(\"Les nombres impairs de la liste sont :\", impairs, \"leur somme est égal à :\", sum(impairs))\n"
   ]
  },
  {
   "cell_type": "code",
   "execution_count": 34,
   "metadata": {},
   "outputs": [
    {
     "output_type": "stream",
     "name": "stdout",
     "text": [
      "['Ordinateur de bureau', 'Ordinateur portable', 100, 'Caméra', 310.28, 'Haut-parleurs', 27.0, 'Télévision', 1000, 'cartes mères', 'souris', 'claviers', 500, 'varettes de mémoires']\n[]\n['Ordinateur de bureau', 'Ordinateur portable', 100, 'Caméra', 310.28, 'Haut-parleurs', 27.0, 'Télévision', 1000, 'cartes mères', 'souris', 'claviers', 500, 'varettes de mémoires']\n"
     ]
    }
   ],
   "source": []
  },
  {
   "cell_type": "code",
   "execution_count": null,
   "metadata": {},
   "outputs": [],
   "source": []
  }
 ]
}